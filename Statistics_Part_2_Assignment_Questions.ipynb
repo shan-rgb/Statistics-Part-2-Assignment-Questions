{
  "nbformat": 4,
  "nbformat_minor": 0,
  "metadata": {
    "colab": {
      "provenance": []
    },
    "kernelspec": {
      "name": "python3",
      "display_name": "Python 3"
    },
    "language_info": {
      "name": "python"
    }
  },
  "cells": [
    {
      "cell_type": "markdown",
      "source": [
        "# **Statistics Part-2**"
      ],
      "metadata": {
        "id": "xgHybTBkbUCO"
      }
    },
    {
      "cell_type": "markdown",
      "source": [
        "Q1. What is hypothesis testing in statistics?\n",
        "\n",
        "Ans: Hypothesis testing is a statistical method used to make decisions or inferences about a population based on sample data. It involves formulating a null hypothesis and an alternative hypothesis, then using statistical tests to determine whether there is enough evidence to reject the null hypothesis."
      ],
      "metadata": {
        "id": "ja8DAtbJbdor"
      }
    },
    {
      "cell_type": "markdown",
      "source": [
        "Q2. What is the null hypothesis, and how does it differ from the alternative hypothesis?\n",
        "\n",
        "Ans: Null Hypothesis (\n",
        "𝐻\n",
        "0\n",
        " ): A statement that assumes no effect, no difference, or the status quo. It is the hypothesis we test against.\n",
        "\n",
        "\n",
        "Alternative Hypothesis (\n",
        "𝐻\n",
        "𝑎\n",
        " ): A statement that contradicts the null hypothesis, suggesting a significant effect or difference. If sufficient evidence exists, we reject\n",
        "𝐻\n",
        "0\n",
        "  in favor of\n",
        "𝐻\n",
        "𝑎\n",
        " ."
      ],
      "metadata": {
        "id": "QRLVNhpecYzP"
      }
    },
    {
      "cell_type": "markdown",
      "source": [
        "Q3. What is the significance level in hypothesis testing, and why is it important?\n",
        "\n",
        "Ans: The significance level (\n",
        "𝛼\n",
        "α) is the probability of rejecting the null hypothesis when it is actually true (Type 1 error). Common values are 0.05 (5%) or 0.01 (1%). It determines the threshold for statistical significance.\n"
      ],
      "metadata": {
        "id": "xaTVM-4MdKVI"
      }
    },
    {
      "cell_type": "markdown",
      "source": [
        "Q4. What does a P-value represent in hypothesis testing?\n",
        "\n",
        "Ans: The P-value is the probability of obtaining a test statistic at least as extreme as the one observed, assuming the null hypothesis is true. It helps determine whether to reject\n",
        "𝐻\n",
        "0\n",
        " ."
      ],
      "metadata": {
        "id": "13UVpNMFdkBi"
      }
    },
    {
      "cell_type": "markdown",
      "source": [
        "Q5. How do you interpret the P-value in hypothesis testing?\n",
        "\n",
        "Ans: If P-value\n",
        "≤\n",
        "𝛼\n",
        ", reject\n",
        "𝐻\n",
        "0\n",
        "​\n",
        "  (strong evidence against\n",
        "𝐻\n",
        "0\n",
        " ).\n",
        "\n",
        " If P-value > 𝛼, fail to reject\n",
        "𝐻\n",
        "0\n",
        "  (insufficient evidence against\n",
        "𝐻\n",
        "0\n",
        " )."
      ],
      "metadata": {
        "id": "khJogjDddyxf"
      }
    },
    {
      "cell_type": "markdown",
      "source": [
        "Q6. What are Type 1 and Type 2 errors in hypothesis testing?\n",
        "\n",
        "Ans: Type 1 Error (\n",
        "𝛼\n",
        "): Rejecting\n",
        "𝐻\n",
        "0\n",
        "  when it is actually true (false positive).\n",
        "\n",
        "\n",
        "Type 2 Error (\n",
        "𝛽\n",
        "): Failing to reject\n",
        "𝐻\n",
        "0\n",
        "​\n",
        "  when it is actually false (false negative)."
      ],
      "metadata": {
        "id": "zTVV70IGfiV4"
      }
    },
    {
      "cell_type": "markdown",
      "source": [
        "Q7. What is the difference between a one-tailed and a two-tailed test in hypothesis testing?\n",
        "\n",
        "Ans: One-tailed test: Tests for an effect in a single direction (greater than or less than).\n",
        "\n",
        "\n",
        "Two-tailed test: Tests for an effect in both directions (not equal)."
      ],
      "metadata": {
        "id": "gMLHg-B5gEWw"
      }
    },
    {
      "cell_type": "markdown",
      "source": [
        "Q8. What is the Z-test, and when is it used in hypothesis testing?\n",
        "\n",
        "Ans:\n",
        "A Z-test is used to test hypotheses about population means when the sample size is large (\n",
        "𝑛\n",
        "≥\n",
        "30) and the population standard deviation (\n",
        "𝜎\n",
        ") is known."
      ],
      "metadata": {
        "id": "PJeGXgYMgUNk"
      }
    },
    {
      "cell_type": "markdown",
      "source": [
        "Q9. How do you calculate the Z-score, and what does it represent in hypothesis testing?\n",
        "\n",
        "Ans:\n",
        "\n",
        "Z= (X−μ) / (σ/ √n)\n",
        "\n",
        "The Z-score measures how many standard deviations a sample mean is from the population mean.\n",
        "\n"
      ],
      "metadata": {
        "id": "cjOrgE1mgm5N"
      }
    },
    {
      "cell_type": "markdown",
      "source": [
        "Q10. What is the T-distribution, and when should it be used instead of the normal distribution?\n",
        "\n",
        "Ans:\n",
        "The T-distribution is used instead of the normal distribution when the sample size is small (𝑛<30) and the population standard deviation is unknown."
      ],
      "metadata": {
        "id": "m5wTWjcqhr_p"
      }
    },
    {
      "cell_type": "markdown",
      "source": [
        "Q11. What is the difference between a Z-test and a T-test?\n",
        "\n",
        "Ans:\n",
        "Z-test: Used for large samples with known population standard deviation.\n",
        "\n",
        "T-test: Used for small samples with unknown population standard deviation."
      ],
      "metadata": {
        "id": "tx9Iz4ZFh6fZ"
      }
    },
    {
      "cell_type": "markdown",
      "source": [
        "Q12. What is the T-test, and how is it used in hypothesis testing?\n",
        "\n",
        "Ans:\n",
        "A T-test compares sample means to determine if they are significantly different from each other or from a known value."
      ],
      "metadata": {
        "id": "TujMXS2siM9-"
      }
    },
    {
      "cell_type": "markdown",
      "source": [
        "Q13. What is the relationship between Z-test and T-test in hypothesis testing?\n",
        "\n",
        "Ans:\n",
        "As the sample size increases (\n",
        "𝑛\n",
        "→\n",
        "∞), the T-distribution approaches the normal distribution, making the Z-test and T-test results more similar."
      ],
      "metadata": {
        "id": "8M-fueAciVrx"
      }
    },
    {
      "cell_type": "markdown",
      "source": [
        "Q14. What is a confidence interval, and how is it used to interpret statistical results?\n",
        "\n",
        "Ans:\n",
        "A confidence interval (CI) is a range of values within which the true population parameter is expected to lie with a certain probability (e.g., 95% CI means 95% confidence)."
      ],
      "metadata": {
        "id": "Z99zWN9liwQJ"
      }
    },
    {
      "cell_type": "markdown",
      "source": [
        "Q15. What is the margin of error, and how does it affect the confidence interval?\n",
        "\n",
        "Ans:\n",
        "The margin of error (ME) is the maximum expected difference between the sample estimate and the true population value. A larger margin of error means a wider confidence interval."
      ],
      "metadata": {
        "id": "wmecHj5ZjTRW"
      }
    },
    {
      "cell_type": "markdown",
      "source": [
        "Q16. How is Bayes' Theorem used in statistics, and what is its significance?\n",
        "\n",
        "Ans:\n",
        "Bayes' Theorem calculates conditional probabilities, updating prior beliefs with new evidence.\n",
        "\n",
        "It is widely used in machine learning and medical diagnostics."
      ],
      "metadata": {
        "id": "2oJc-Prukjca"
      }
    },
    {
      "cell_type": "markdown",
      "source": [
        "Q17. What is the Chi-square distribution, and when is it used?\n",
        "\n",
        "Ans: A chi-square distribution is a probability distribution that compares observed values to expected values.\n",
        "\n",
        "The Chi-square distribution is used in categorical data analysis, such as goodness-of-fit tests and independence tests."
      ],
      "metadata": {
        "id": "_jFfxahbnVqp"
      }
    },
    {
      "cell_type": "markdown",
      "source": [
        "Q18. What is the Chi-square goodness of fit test, and how is it applied?\n",
        "\n",
        "Ans:\n",
        "This test determines if a sample follows a specific distribution by comparing observed and expected frequencies."
      ],
      "metadata": {
        "id": "X2tqrV69rY_K"
      }
    },
    {
      "cell_type": "markdown",
      "source": [
        "Q19. What is the F-distribution, and when is it used in hypothesis testing?\n",
        "\n",
        "Ans: The F distribution is an asymmetric distribution that has a minimum value of 0, but no maximum value.\n",
        "\n",
        "The F-distribution is used to compare variances and test whether multiple population means are equal, commonly in ANOVA."
      ],
      "metadata": {
        "id": "kB88g7WWr3pU"
      }
    },
    {
      "cell_type": "markdown",
      "source": [
        "Q20. What is an ANOVA test, and what are its assumptions?\n",
        "\n",
        "Ans:\n",
        "Analysis of Variance (ANOVA) compares means across multiple groups.\n",
        "\n",
        "Assumptions include:\n",
        "\n",
        "Independence of observations\n",
        "\n",
        "\n",
        "Normal distribution of data\n",
        "\n",
        "Equal variances among groups (homoscedasticity)"
      ],
      "metadata": {
        "id": "LCF2778qtwQU"
      }
    },
    {
      "cell_type": "markdown",
      "source": [
        "Q21. What are the different types of ANOVA tests?\n",
        "\n",
        "Ans:\n",
        "\n",
        "One-way ANOVA: Compares means of one independent variable.\n",
        "\n",
        "Two-way ANOVA: Examines two independent variables simultaneously.\n",
        "\n",
        "Repeated measures ANOVA: Tests the same subjects under different conditions."
      ],
      "metadata": {
        "id": "-mVXBC_JuAj3"
      }
    },
    {
      "cell_type": "markdown",
      "source": [
        "Q22. What is the F-test, and how does it relate to hypothesis testing?\n",
        "\n",
        "Ans:\n",
        "The **F-test** is a statistical test used to compare variances between two or more groups. It helps determine whether the variances are significantly different, which is essential in hypothesis testing.\n",
        "\n",
        "In hypothesis testing, the F-test is commonly used in:\n",
        "- **ANOVA (Analysis of Variance):** To compare the variances of multiple groups.\n",
        "- **Regression analysis:** To test the overall significance of a regression model.\n",
        "- **Equality of variances:** To check if two populations have equal variances (e.g., **Levene’s test**).\n",
        "\n",
        "The **F-statistic** is calculated as the ratio of variances:  \n",
        "\n",
        "F ={Variance of group 1} / {Variance of group 2}\n",
        "\n",
        "\n",
        "A large F-value suggests a significant difference, and the result is compared to a critical value from the F-distribution to accept or reject the null hypothesis."
      ],
      "metadata": {
        "id": "lW_q25muuUY4"
      }
    },
    {
      "cell_type": "markdown",
      "source": [
        "# **Practical**"
      ],
      "metadata": {
        "id": "cfSTGQgBwPmw"
      }
    },
    {
      "cell_type": "markdown",
      "source": [
        "Q1. Write a Python program to perform a Z-test for comparing a sample mean to a known population mean and interpret the results ?\n",
        "\n",
        "Ans:"
      ],
      "metadata": {
        "id": "cZsbDtpywgB1"
      }
    },
    {
      "cell_type": "code",
      "source": [
        "from scipy import stats\n",
        "import numpy as np\n",
        "\n",
        "def z_test(sample, pop_mean, pop_std, alpha=0.05):\n",
        "    n = len(sample)\n",
        "    sample_mean = np.mean(sample)\n",
        "    z_score = (sample_mean - pop_mean) / (pop_std / np.sqrt(n))\n",
        "    p_value = 2 * (1 - stats.norm.cdf(abs(z_score)))\n",
        "\n",
        "    print(f\"Z-score: {z_score:.4f}\")\n",
        "    print(f\"P-value: {p_value:.4f}\")\n",
        "\n",
        "    if p_value < alpha:\n",
        "        print(\"Reject the null hypothesis: Sample mean is significantly different from population mean.\")\n",
        "    else:\n",
        "        print(\"Fail to reject the null hypothesis: No significant difference.\")\n",
        "\n",
        "# Example usage:\n",
        "np.random.seed(42)\n",
        "sample_data = np.random.normal(50, 10, 30)  # Sample from normal distribution\n",
        "z_test(sample_data, pop_mean=52, pop_std=10)\n"
      ],
      "metadata": {
        "colab": {
          "base_uri": "https://localhost:8080/"
        },
        "id": "9zP5u_JewwoA",
        "outputId": "e92ded6d-aac6-4b9b-a22b-50516e28f4c5"
      },
      "execution_count": 1,
      "outputs": [
        {
          "output_type": "stream",
          "name": "stdout",
          "text": [
            "Z-score: -2.1260\n",
            "P-value: 0.0335\n",
            "Reject the null hypothesis: Sample mean is significantly different from population mean.\n"
          ]
        }
      ]
    },
    {
      "cell_type": "markdown",
      "source": [
        "Q2.  Simulate random data to perform hypothesis testing and calculate the corresponding P-value using Python?\n",
        "\n",
        "Ans:"
      ],
      "metadata": {
        "id": "xWccZnTSw_6A"
      }
    },
    {
      "cell_type": "code",
      "source": [
        "np.random.seed(0)\n",
        "sample_data = np.random.normal(100, 15, 40)  # Mean=100, Std=15, Sample Size=40\n",
        "pop_mean = 105\n",
        "pop_std = 15\n",
        "\n",
        "# Perform Z-test\n",
        "z_test(sample_data, pop_mean, pop_std)\n"
      ],
      "metadata": {
        "colab": {
          "base_uri": "https://localhost:8080/"
        },
        "id": "KsqUAtpaxGns",
        "outputId": "49ed6574-cfcd-49da-912b-6e6cd9e3ab40"
      },
      "execution_count": 2,
      "outputs": [
        {
          "output_type": "stream",
          "name": "stdout",
          "text": [
            "Z-score: -0.1315\n",
            "P-value: 0.8954\n",
            "Fail to reject the null hypothesis: No significant difference.\n"
          ]
        }
      ]
    },
    {
      "cell_type": "markdown",
      "source": [
        "Q3.  Implement a one-sample Z-test using Python to compare the sample mean with the population mean.\n",
        "\n",
        "Ans:"
      ],
      "metadata": {
        "id": "IRE68QC2xTP-"
      }
    },
    {
      "cell_type": "code",
      "source": [
        "def one_sample_ztest(sample, pop_mean, pop_std, alpha=0.05):\n",
        "    z_test(sample, pop_mean, pop_std, alpha)\n",
        "\n",
        "# Example:\n",
        "sample_data = np.random.normal(70, 5, 30)  # Mean=70, Std=5, Sample Size=30\n",
        "one_sample_ztest(sample_data, pop_mean=72, pop_std=5)\n"
      ],
      "metadata": {
        "colab": {
          "base_uri": "https://localhost:8080/"
        },
        "id": "PeE-8U2DxcTM",
        "outputId": "29aa2432-67f0-4cab-df7f-b12ab250dfea"
      },
      "execution_count": 3,
      "outputs": [
        {
          "output_type": "stream",
          "name": "stdout",
          "text": [
            "Z-score: -4.6958\n",
            "P-value: 0.0000\n",
            "Reject the null hypothesis: Sample mean is significantly different from population mean.\n"
          ]
        }
      ]
    },
    {
      "cell_type": "markdown",
      "source": [
        "Q4. Perform a two-tailed Z-test using Python and visualize the decision region on a plot.\n",
        "\n",
        "Ans:"
      ],
      "metadata": {
        "id": "eYCfbF_bxjTS"
      }
    },
    {
      "cell_type": "code",
      "source": [
        "import matplotlib.pyplot as plt\n",
        "\n",
        "def visualize_z_test(sample, pop_mean, pop_std, alpha=0.05):\n",
        "    z_critical = stats.norm.ppf(1 - alpha/2)  # Two-tailed\n",
        "    x = np.linspace(-4, 4, 1000)\n",
        "    y = stats.norm.pdf(x)\n",
        "\n",
        "    plt.figure(figsize=(8, 5))\n",
        "    plt.plot(x, y, label=\"Standard Normal Distribution\")\n",
        "\n",
        "    # Highlight critical regions\n",
        "    plt.fill_between(x, y, where=(x > z_critical) | (x < -z_critical), color='red', alpha=0.5, label=\"Rejection Region\")\n",
        "\n",
        "    # Calculate and plot Z-score\n",
        "    z_score = (np.mean(sample) - pop_mean) / (pop_std / np.sqrt(len(sample)))\n",
        "    plt.axvline(z_score, color='blue', linestyle=\"--\", label=f\"Z-score: {z_score:.2f}\")\n",
        "\n",
        "    plt.legend()\n",
        "    plt.title(\"Two-tailed Z-test Decision Region\")\n",
        "    plt.show()\n",
        "\n",
        "    z_test(sample, pop_mean, pop_std, alpha)\n",
        "\n",
        "# Example:\n",
        "sample_data = np.random.normal(50, 10, 30)\n",
        "visualize_z_test(sample_data, 52, 10)\n"
      ],
      "metadata": {
        "colab": {
          "base_uri": "https://localhost:8080/",
          "height": 520
        },
        "id": "R3bTzY_gxpkF",
        "outputId": "f7c6f416-c835-4d23-ac28-6059db693d4d"
      },
      "execution_count": 4,
      "outputs": [
        {
          "output_type": "display_data",
          "data": {
            "text/plain": [
              "<Figure size 800x500 with 1 Axes>"
            ],
            "image/png": "[encoded data removed]"
          },
          "metadata": {}
        },
        {
          "output_type": "stream",
          "name": "stdout",
          "text": [
            "Z-score: 0.2190\n",
            "P-value: 0.8267\n",
            "Fail to reject the null hypothesis: No significant difference.\n"
          ]
        }
      ]
    },
    {
      "cell_type": "markdown",
      "source": [
        "Q5. Create a Python function that calculates and visualizes Type 1 and Type 2 errors during hypothesis testing.\n",
        "\n",
        "Ans:"
      ],
      "metadata": {
        "id": "5_JuTBXZx96o"
      }
    },
    {
      "cell_type": "code",
      "source": [
        "def visualize_errors():\n",
        "    x = np.linspace(-4, 4, 1000)\n",
        "    y = stats.norm.pdf(x)\n",
        "\n",
        "    plt.figure(figsize=(8, 5))\n",
        "    plt.plot(x, y, label=\"Null Hypothesis Distribution\")\n",
        "    plt.fill_between(x, y, where=(x > 1.645), color='red', alpha=0.5, label=\"Type I Error (α)\")\n",
        "\n",
        "    # Alternative distribution shifted to the right\n",
        "    y_alt = stats.norm.pdf(x, loc=1.5)\n",
        "    plt.plot(x, y_alt, label=\"Alternative Hypothesis Distribution\")\n",
        "    plt.fill_between(x, y_alt, where=(x < 1.645), color='blue', alpha=0.5, label=\"Type II Error (β)\")\n",
        "\n",
        "    plt.legend()\n",
        "    plt.title(\"Type I and Type II Errors\")\n",
        "    plt.show()\n",
        "\n",
        "visualize_errors()\n"
      ],
      "metadata": {
        "colab": {
          "base_uri": "https://localhost:8080/",
          "height": 468
        },
        "id": "u2OLktInyEmo",
        "outputId": "43a57042-0cb9-42e1-8d3e-87ce003266d4"
      },
      "execution_count": 5,
      "outputs": [
        {
          "output_type": "display_data",
          "data": {
            "text/plain": [
              "<Figure size 800x500 with 1 Axes>"
            ],
            "image/png": "[encoded data removed]"
          },
          "metadata": {}
        }
      ]
    },
    {
      "cell_type": "markdown",
      "source": [
        "Q6.  Write a Python program to perform an independent T-test and interpret the results?\n",
        "\n",
        "Ans:"
      ],
      "metadata": {
        "id": "E4iJ4KdJyScf"
      }
    },
    {
      "cell_type": "code",
      "source": [
        "def independent_t_test(sample1, sample2, alpha=0.05):\n",
        "    t_stat, p_value = stats.ttest_ind(sample1, sample2)\n",
        "    print(f\"T-statistic: {t_stat:.4f}, P-value: {p_value:.4f}\")\n",
        "\n",
        "    if p_value < alpha:\n",
        "        print(\"Reject the null hypothesis: The two samples have significantly different means.\")\n",
        "    else:\n",
        "        print(\"Fail to reject the null hypothesis: No significant difference.\")\n",
        "\n",
        "# Example:\n",
        "sample1 = np.random.normal(100, 15, 30)\n",
        "sample2 = np.random.normal(105, 15, 30)\n",
        "independent_t_test(sample1, sample2)\n"
      ],
      "metadata": {
        "colab": {
          "base_uri": "https://localhost:8080/"
        },
        "id": "eEdm8Uoxyjy6",
        "outputId": "31ae05ac-5d6a-4b35-8411-03ece490d25d"
      },
      "execution_count": 6,
      "outputs": [
        {
          "output_type": "stream",
          "name": "stdout",
          "text": [
            "T-statistic: 0.5552, P-value: 0.5809\n",
            "Fail to reject the null hypothesis: No significant difference.\n"
          ]
        }
      ]
    },
    {
      "cell_type": "markdown",
      "source": [
        "Q7. Perform a paired sample T-test using Python and visualize the comparison results.\n",
        "\n",
        "Ans:"
      ],
      "metadata": {
        "id": "Fq_-APNWy1fu"
      }
    },
    {
      "cell_type": "code",
      "source": [
        "def paired_t_test(before, after, alpha=0.05):\n",
        "    t_stat, p_value = stats.ttest_rel(before, after)\n",
        "    print(f\"T-statistic: {t_stat:.4f}, P-value: {p_value:.4f}\")\n",
        "\n",
        "    if p_value < alpha:\n",
        "        print(\"Reject the null hypothesis: The two paired samples are significantly different.\")\n",
        "    else:\n",
        "        print(\"Fail to reject the null hypothesis: No significant difference.\")\n",
        "\n",
        "# Example:\n",
        "before = np.random.normal(120, 10, 30)\n",
        "after = before + np.random.normal(5, 5, 30)  # Small improvement\n",
        "paired_t_test(before, after)\n"
      ],
      "metadata": {
        "colab": {
          "base_uri": "https://localhost:8080/"
        },
        "id": "HToidRBfzCCz",
        "outputId": "caae82c0-4fdf-4521-c93d-0594e9d8193f"
      },
      "execution_count": 8,
      "outputs": [
        {
          "output_type": "stream",
          "name": "stdout",
          "text": [
            "T-statistic: -4.0636, P-value: 0.0003\n",
            "Reject the null hypothesis: The two paired samples are significantly different.\n"
          ]
        }
      ]
    },
    {
      "cell_type": "markdown",
      "source": [
        "Q8. Simulate data and perform both Z-test and T-test, then compare the results using Python?\n",
        "\n",
        "Ans:"
      ],
      "metadata": {
        "id": "FSGtRimLzRi1"
      }
    },
    {
      "cell_type": "code",
      "source": [
        "def compare_tests():\n",
        "    sample1 = np.random.normal(70, 10, 15)  # Small sample size\n",
        "    sample2 = np.random.normal(72, 10, 15)\n",
        "\n",
        "    print(\"\\nPerforming Z-test:\")\n",
        "    z_test(sample1, 72, 10)\n",
        "\n",
        "    print(\"\\nPerforming T-test:\")\n",
        "    independent_t_test(sample1, sample2)\n",
        "\n",
        "compare_tests()\n"
      ],
      "metadata": {
        "colab": {
          "base_uri": "https://localhost:8080/"
        },
        "id": "TkMzCWejVF10",
        "outputId": "a344207a-dd2c-4e56-ddea-a7ed7bb20022"
      },
      "execution_count": 9,
      "outputs": [
        {
          "output_type": "stream",
          "name": "stdout",
          "text": [
            "\n",
            "Performing Z-test:\n",
            "Z-score: 0.4662\n",
            "P-value: 0.6411\n",
            "Fail to reject the null hypothesis: No significant difference.\n",
            "\n",
            "Performing T-test:\n",
            "T-statistic: 0.4538, P-value: 0.6535\n",
            "Fail to reject the null hypothesis: No significant difference.\n"
          ]
        }
      ]
    },
    {
      "cell_type": "markdown",
      "source": [
        "Q9. Write a Python function to calculate the confidence interval for a sample mean and explain its significance.\n",
        "\n",
        "Ans:"
      ],
      "metadata": {
        "id": "VFCtCKRsVRD-"
      }
    },
    {
      "cell_type": "code",
      "source": [
        "def confidence_interval(sample, confidence=0.95):\n",
        "    sample_mean = np.mean(sample)\n",
        "    sample_std = np.std(sample, ddof=1)  # Sample standard deviation\n",
        "    n = len(sample)\n",
        "    margin_of_error = stats.t.ppf((1 + confidence) / 2, n - 1) * (sample_std / np.sqrt(n))\n",
        "\n",
        "    lower_bound = sample_mean - margin_of_error\n",
        "    upper_bound = sample_mean + margin_of_error\n",
        "\n",
        "    print(f\"{confidence*100}% Confidence Interval: ({lower_bound:.4f}, {upper_bound:.4f})\")\n",
        "    return lower_bound, upper_bound\n",
        "\n",
        "# Example:\n",
        "sample_data = np.random.normal(100, 15, 30)\n",
        "confidence_interval(sample_data)\n"
      ],
      "metadata": {
        "colab": {
          "base_uri": "https://localhost:8080/"
        },
        "id": "lz0atoBFVef9",
        "outputId": "75eff1a6-cc37-4c94-c11e-8404bab8ffc8"
      },
      "execution_count": 10,
      "outputs": [
        {
          "output_type": "stream",
          "name": "stdout",
          "text": [
            "95.0% Confidence Interval: (91.2078, 102.5746)\n"
          ]
        },
        {
          "output_type": "execute_result",
          "data": {
            "text/plain": [
              "(91.20778963505823, 102.57455060464382)"
            ]
          },
          "metadata": {},
          "execution_count": 10
        }
      ]
    },
    {
      "cell_type": "markdown",
      "source": [
        "Q10. Write a Python program to calculate the margin of error for a given confidence level using sample data.\n",
        "\n",
        "Ans:\n"
      ],
      "metadata": {
        "id": "5YOyAidiVNz7"
      }
    },
    {
      "cell_type": "code",
      "source": [
        "def margin_of_error(sample, confidence=0.95):\n",
        "    sample_std = np.std(sample, ddof=1)\n",
        "    n = len(sample)\n",
        "    critical_value = stats.t.ppf((1 + confidence) / 2, n - 1)\n",
        "    moe = critical_value * (sample_std / np.sqrt(n))\n",
        "\n",
        "    print(f\"Margin of Error: {moe:.4f}\")\n",
        "    return moe\n",
        "\n",
        "# Example usage:\n",
        "sample_data = np.random.normal(50, 10, 30)\n",
        "margin_of_error(sample_data)\n"
      ],
      "metadata": {
        "colab": {
          "base_uri": "https://localhost:8080/"
        },
        "id": "9qLW1DIAYIWd",
        "outputId": "7f6c6b93-740d-4834-b205-c4d3cec031ba"
      },
      "execution_count": 11,
      "outputs": [
        {
          "output_type": "stream",
          "name": "stdout",
          "text": [
            "Margin of Error: 2.7675\n"
          ]
        },
        {
          "output_type": "execute_result",
          "data": {
            "text/plain": [
              "2.767496973171027"
            ]
          },
          "metadata": {},
          "execution_count": 11
        }
      ]
    },
    {
      "cell_type": "markdown",
      "source": [
        "Q11. Implement a Bayesian inference method using Bayes' Theorem in Python and explain the process.\n",
        "\n",
        "Ans:"
      ],
      "metadata": {
        "id": "WZt7unEmXsrB"
      }
    },
    {
      "cell_type": "code",
      "source": [
        "def bayes_theorem(prior, likelihood, marginal):\n",
        "    posterior = (likelihood * prior) / marginal\n",
        "    print(f\"Posterior Probability: {posterior:.4f}\")\n",
        "    return posterior\n",
        "\n",
        "# Example usage:\n",
        "prior = 0.01   # Probability of having a disease\n",
        "likelihood = 0.95  # Probability of testing positive if diseased\n",
        "false_positive = 0.05  # Probability of testing positive without disease\n",
        "marginal = (likelihood * prior) + (false_positive * (1 - prior))\n",
        "\n",
        "bayes_theorem(prior, likelihood, marginal)\n"
      ],
      "metadata": {
        "colab": {
          "base_uri": "https://localhost:8080/"
        },
        "id": "szvAeGlfYN4u",
        "outputId": "ab69c00c-4300-45c5-ce77-a12c258d1292"
      },
      "execution_count": 12,
      "outputs": [
        {
          "output_type": "stream",
          "name": "stdout",
          "text": [
            "Posterior Probability: 0.1610\n"
          ]
        },
        {
          "output_type": "execute_result",
          "data": {
            "text/plain": [
              "0.16101694915254236"
            ]
          },
          "metadata": {},
          "execution_count": 12
        }
      ]
    },
    {
      "cell_type": "markdown",
      "source": [
        "Q12. Perform a Chi-square test for independence between two categorical variables in Python.\n",
        "\n",
        "Ans:"
      ],
      "metadata": {
        "id": "dl63fn_DWOLr"
      }
    },
    {
      "cell_type": "code",
      "source": [
        "import pandas as pd\n",
        "\n",
        "def chi_square_test(observed):\n",
        "    chi2, p, dof, expected = stats.chi2_contingency(observed)\n",
        "    print(f\"Chi-square statistic: {chi2:.4f}, P-value: {p:.4f}\")\n",
        "\n",
        "    if p < 0.05:\n",
        "        print(\"Reject the null hypothesis: The variables are dependent.\")\n",
        "    else:\n",
        "        print(\"Fail to reject the null hypothesis: No association.\")\n",
        "\n",
        "# Example contingency table (rows: groups, cols: outcomes)\n",
        "observed = np.array([[50, 30], [20, 40]])\n",
        "chi_square_test(observed)\n"
      ],
      "metadata": {
        "colab": {
          "base_uri": "https://localhost:8080/"
        },
        "id": "JaMJp3LuYWGr",
        "outputId": "981974af-9a6d-4e78-dfeb-a9f49f79776b"
      },
      "execution_count": 13,
      "outputs": [
        {
          "output_type": "stream",
          "name": "stdout",
          "text": [
            "Chi-square statistic: 10.5292, P-value: 0.0012\n",
            "Reject the null hypothesis: The variables are dependent.\n"
          ]
        }
      ]
    },
    {
      "cell_type": "markdown",
      "source": [
        "Q13. Write a Python program to calculate the expected frequencies for a Chi-square test based on observed data.\n",
        "\n",
        "Ans:"
      ],
      "metadata": {
        "id": "9T_aznG5WWvE"
      }
    },
    {
      "cell_type": "code",
      "source": [
        "def expected_frequencies(observed):\n",
        "    _, _, _, expected = stats.chi2_contingency(observed)\n",
        "    print(\"Expected Frequencies:\\n\", expected)\n",
        "    return expected\n",
        "\n",
        "expected_frequencies(observed)\n"
      ],
      "metadata": {
        "colab": {
          "base_uri": "https://localhost:8080/"
        },
        "id": "W9frpk73Yet7",
        "outputId": "89337643-5ab6-407c-f85b-76dbe5441a6b"
      },
      "execution_count": 14,
      "outputs": [
        {
          "output_type": "stream",
          "name": "stdout",
          "text": [
            "Expected Frequencies:\n",
            " [[40. 40.]\n",
            " [30. 30.]]\n"
          ]
        },
        {
          "output_type": "execute_result",
          "data": {
            "text/plain": [
              "array([[40., 40.],\n",
              "       [30., 30.]])"
            ]
          },
          "metadata": {},
          "execution_count": 14
        }
      ]
    },
    {
      "cell_type": "markdown",
      "source": [
        "Q14. Perform a goodness-of-fit test using Python to compare the observed data to an expected distribution.\n",
        "\n",
        "Ans:"
      ],
      "metadata": {
        "id": "wOG-EGDCWcmz"
      }
    },
    {
      "cell_type": "code",
      "source": [
        "def goodness_of_fit(observed, expected):\n",
        "    chi2, p = stats.chisquare(observed, expected)\n",
        "    print(f\"Chi-square statistic: {chi2:.4f}, P-value: {p:.4f}\")\n",
        "\n",
        "observed = np.array([40, 60])\n",
        "expected = np.array([50, 50])\n",
        "goodness_of_fit(observed, expected)\n"
      ],
      "metadata": {
        "colab": {
          "base_uri": "https://localhost:8080/"
        },
        "id": "H5eZ3BsNYpcB",
        "outputId": "a485d78d-c747-464d-a184-10c8b6073714"
      },
      "execution_count": 15,
      "outputs": [
        {
          "output_type": "stream",
          "name": "stdout",
          "text": [
            "Chi-square statistic: 4.0000, P-value: 0.0455\n"
          ]
        }
      ]
    },
    {
      "cell_type": "markdown",
      "source": [
        "Q15. Create a Python script to simulate and visualize the Chi-square distribution and discuss its characteristics.\n",
        "\n",
        "Ans:"
      ],
      "metadata": {
        "id": "VikQfQETWgR-"
      }
    },
    {
      "cell_type": "code",
      "source": [
        "def plot_chi_square(df):\n",
        "    x = np.linspace(0, 20, 1000)\n",
        "    y = stats.chi2.pdf(x, df)\n",
        "\n",
        "    plt.figure(figsize=(8, 5))\n",
        "    plt.plot(x, y, label=f\"Chi-square (df={df})\")\n",
        "    plt.title(\"Chi-square Distribution\")\n",
        "    plt.xlabel(\"Value\")\n",
        "    plt.ylabel(\"Probability Density\")\n",
        "    plt.legend()\n",
        "    plt.show()\n",
        "\n",
        "plot_chi_square(5)\n"
      ],
      "metadata": {
        "colab": {
          "base_uri": "https://localhost:8080/",
          "height": 487
        },
        "id": "entvAR7DYwob",
        "outputId": "b0a5e44e-5654-426a-b8d6-e3d4d3d95246"
      },
      "execution_count": 16,
      "outputs": [
        {
          "output_type": "display_data",
          "data": {
            "text/plain": [
              "<Figure size 800x500 with 1 Axes>"
            ],
            "image/png": "[encoded data removed]"
          },
          "metadata": {}
        }
      ]
    },
    {
      "cell_type": "markdown",
      "source": [
        "Q16. Implement an F-test using Python to compare the variances of two random samples.\n",
        "\n",
        "Ans:"
      ],
      "metadata": {
        "id": "a5GauEDbWjMv"
      }
    },
    {
      "cell_type": "code",
      "source": [
        "def f_test(var1, var2, n1, n2):\n",
        "    f_stat = var1 / var2\n",
        "    p_value = 1 - stats.f.cdf(f_stat, n1 - 1, n2 - 1)\n",
        "\n",
        "    print(f\"F-statistic: {f_stat:.4f}, P-value: {p_value:.4f}\")\n",
        "\n",
        "sample1 = np.random.normal(100, 15, 30)\n",
        "sample2 = np.random.normal(100, 10, 30)\n",
        "f_test(np.var(sample1, ddof=1), np.var(sample2, ddof=1), 30, 30)\n"
      ],
      "metadata": {
        "colab": {
          "base_uri": "https://localhost:8080/"
        },
        "id": "cv91AGXNY1ss",
        "outputId": "2199ba79-63dd-4f15-b274-37f0b1ea4dc7"
      },
      "execution_count": 17,
      "outputs": [
        {
          "output_type": "stream",
          "name": "stdout",
          "text": [
            "F-statistic: 2.1339, P-value: 0.0227\n"
          ]
        }
      ]
    },
    {
      "cell_type": "markdown",
      "source": [
        "Q17. Write a Python program to perform an ANOVA test to compare means between multiple groups and interpret the results.\n",
        "\n",
        "Ans:"
      ],
      "metadata": {
        "id": "NzFoFFgtWmVs"
      }
    },
    {
      "cell_type": "code",
      "source": [
        "def anova_test(*groups):\n",
        "    f_stat, p_value = stats.f_oneway(*groups)\n",
        "    print(f\"F-statistic: {f_stat:.4f}, P-value: {p_value:.4f}\")\n",
        "\n",
        "group1 = np.random.normal(100, 10, 30)\n",
        "group2 = np.random.normal(105, 10, 30)\n",
        "group3 = np.random.normal(98, 10, 30)\n",
        "anova_test(group1, group2, group3)\n"
      ],
      "metadata": {
        "colab": {
          "base_uri": "https://localhost:8080/"
        },
        "id": "_pj38NddZGs1",
        "outputId": "f38d7ce5-6191-41c8-ee29-bd0236bbc81c"
      },
      "execution_count": 18,
      "outputs": [
        {
          "output_type": "stream",
          "name": "stdout",
          "text": [
            "F-statistic: 2.9527, P-value: 0.0575\n"
          ]
        }
      ]
    },
    {
      "cell_type": "markdown",
      "source": [
        "Q18. Perform a one-way ANOVA test using Python to compare the means of different groups and plot the results.\n",
        "\n",
        "Ans:"
      ],
      "metadata": {
        "id": "um_gtGCLWphU"
      }
    },
    {
      "cell_type": "code",
      "source": [
        "def anova_boxplot(*groups):\n",
        "    plt.boxplot(groups, labels=[f\"Group {i+1}\" for i in range(len(groups))])\n",
        "    plt.title(\"One-Way ANOVA: Group Comparisons\")\n",
        "    plt.show()\n",
        "\n",
        "    anova_test(*groups)\n",
        "\n",
        "anova_boxplot(group1, group2, group3)\n"
      ],
      "metadata": {
        "colab": {
          "base_uri": "https://localhost:8080/",
          "height": 524
        },
        "id": "lK9kiJ93ZNw8",
        "outputId": "fb4a3cdd-3866-48f8-ccb2-f5b41cf1eb0f"
      },
      "execution_count": 19,
      "outputs": [
        {
          "output_type": "stream",
          "name": "stderr",
          "text": [
            "<ipython-input-19-36c4bf5334c0>:2: MatplotlibDeprecationWarning: The 'labels' parameter of boxplot() has been renamed 'tick_labels' since Matplotlib 3.9; support for the old name will be dropped in 3.11.\n",
            "  plt.boxplot(groups, labels=[f\"Group {i+1}\" for i in range(len(groups))])\n"
          ]
        },
        {
          "output_type": "display_data",
          "data": {
            "text/plain": [
              "<Figure size 640x480 with 1 Axes>"
            ],
            "image/png": "[encoded data removed]"
          },
          "metadata": {}
        },
        {
          "output_type": "stream",
          "name": "stdout",
          "text": [
            "F-statistic: 2.9527, P-value: 0.0575\n"
          ]
        }
      ]
    },
    {
      "cell_type": "markdown",
      "source": [
        "Q19. Write a Python function to check the assumptions (normality, independence, and equal variance) for ANOVAD\n",
        "\n",
        "Ans:"
      ],
      "metadata": {
        "id": "bg977lumWr7v"
      }
    },
    {
      "cell_type": "code",
      "source": [
        "def check_anova_assumptions(groups):\n",
        "    for i, group in enumerate(groups, 1):\n",
        "        stat, p = stats.shapiro(group)\n",
        "        print(f\"Group {i} Normality Test: p-value={p:.4f}\")\n",
        "    stat, p = stats.levene(*groups)\n",
        "    print(f\"Equal Variance Test: p-value={p:.4f}\")\n",
        "\n",
        "check_anova_assumptions([group1, group2, group3])\n"
      ],
      "metadata": {
        "colab": {
          "base_uri": "https://localhost:8080/"
        },
        "id": "RHQ3l8-zZbWk",
        "outputId": "bbd12cd2-b198-4834-93b3-dabe275450f6"
      },
      "execution_count": 20,
      "outputs": [
        {
          "output_type": "stream",
          "name": "stdout",
          "text": [
            "Group 1 Normality Test: p-value=0.5287\n",
            "Group 2 Normality Test: p-value=0.8123\n",
            "Group 3 Normality Test: p-value=0.8088\n",
            "Equal Variance Test: p-value=0.1359\n"
          ]
        }
      ]
    },
    {
      "cell_type": "markdown",
      "source": [
        "Q20. Perform a two-way ANOVA test using Python to study the interaction between two factors and visualize the results.\n",
        "\n",
        "Ans:"
      ],
      "metadata": {
        "id": "CeR_4J7AWuh9"
      }
    },
    {
      "cell_type": "code",
      "source": [
        "import statsmodels.api as sm\n",
        "from statsmodels.formula.api import ols\n",
        "\n",
        "def two_way_anova(df):\n",
        "    model = ols('Value ~ C(Factor1) + C(Factor2) + C(Factor1):C(Factor2)', data=df).fit()\n",
        "    anova_table = sm.stats.anova_lm(model, typ=2)\n",
        "    print(anova_table)\n",
        "\n",
        "df = pd.DataFrame({\n",
        "    'Value': np.random.normal(100, 10, 30),\n",
        "    'Factor1': np.random.choice(['A', 'B'], 30),\n",
        "    'Factor2': np.random.choice(['X', 'Y'], 30)\n",
        "})\n",
        "\n",
        "two_way_anova(df)\n"
      ],
      "metadata": {
        "colab": {
          "base_uri": "https://localhost:8080/"
        },
        "id": "iLT2sLbMZf7d",
        "outputId": "4abf4522-a4de-4271-e6d2-d266fc7aa9c0"
      },
      "execution_count": 21,
      "outputs": [
        {
          "output_type": "stream",
          "name": "stdout",
          "text": [
            "                            sum_sq    df         F    PR(>F)\n",
            "C(Factor1)               35.797485   1.0  0.298492  0.589488\n",
            "C(Factor2)              308.776356   1.0  2.574685  0.120665\n",
            "C(Factor1):C(Factor2)    27.531998   1.0  0.229571  0.635847\n",
            "Residual               3118.123384  26.0       NaN       NaN\n"
          ]
        }
      ]
    },
    {
      "cell_type": "markdown",
      "source": [
        "Q21. Write a Python program to visualize the F-distribution and discuss its use in hypothesis testing.\n",
        "\n",
        "Ans:"
      ],
      "metadata": {
        "id": "B6m7-k2RWxKJ"
      }
    },
    {
      "cell_type": "code",
      "source": [
        "def plot_f_distribution(df1, df2):\n",
        "    x = np.linspace(0, 5, 1000)\n",
        "    y = stats.f.pdf(x, df1, df2)\n",
        "\n",
        "    plt.figure(figsize=(8, 5))\n",
        "    plt.plot(x, y, label=f\"F-distribution (df1={df1}, df2={df2})\")\n",
        "    plt.title(\"F-distribution\")\n",
        "    plt.xlabel(\"F Value\")\n",
        "    plt.ylabel(\"Density\")\n",
        "    plt.legend()\n",
        "    plt.show()\n",
        "\n",
        "plot_f_distribution(5, 10)\n"
      ],
      "metadata": {
        "colab": {
          "base_uri": "https://localhost:8080/",
          "height": 487
        },
        "id": "O_ibZEl6Znoc",
        "outputId": "8219a614-d02d-43b1-d7bc-07561e0cd6ee"
      },
      "execution_count": 22,
      "outputs": [
        {
          "output_type": "display_data",
          "data": {
            "text/plain": [
              "<Figure size 800x500 with 1 Axes>"
            ],
            "image/png": "[encoded data removed]"
          },
          "metadata": {}
        }
      ]
    },
    {
      "cell_type": "markdown",
      "source": [
        "Q22. Perform a one-way ANOVA test in Python and visualize the results with boxplots to compare group means.\n",
        "\n",
        "Ans:"
      ],
      "metadata": {
        "id": "pAl5M7NMWzoI"
      }
    },
    {
      "cell_type": "code",
      "source": [
        "def one_way_anova_visualization(*groups):\n",
        "    # Perform ANOVA test\n",
        "    f_stat, p_value = stats.f_oneway(*groups)\n",
        "    print(f\"F-statistic: {f_stat:.4f}, P-value: {p_value:.4f}\")\n",
        "\n",
        "    # Boxplot visualization\n",
        "    plt.boxplot(groups, labels=[f\"Group {i+1}\" for i in range(len(groups))])\n",
        "    plt.title(\"One-Way ANOVA: Group Comparisons\")\n",
        "    plt.ylabel(\"Values\")\n",
        "    plt.show()\n",
        "\n",
        "    if p_value < 0.05:\n",
        "        print(\"Reject the null hypothesis: At least one group mean is significantly different.\")\n",
        "    else:\n",
        "        print(\"Fail to reject the null hypothesis: No significant difference.\")\n",
        "\n",
        "# Generate sample data\n",
        "group1 = np.random.normal(100, 10, 30)\n",
        "group2 = np.random.normal(105, 10, 30)\n",
        "group3 = np.random.normal(98, 10, 30)\n",
        "\n",
        "one_way_anova_visualization(group1, group2, group3)\n"
      ],
      "metadata": {
        "colab": {
          "base_uri": "https://localhost:8080/",
          "height": 541
        },
        "id": "dctvb4h6ZxIj",
        "outputId": "4ee1f808-fd82-458f-dee9-3a724dc128dd"
      },
      "execution_count": 23,
      "outputs": [
        {
          "output_type": "stream",
          "name": "stdout",
          "text": [
            "F-statistic: 3.8674, P-value: 0.0246\n"
          ]
        },
        {
          "output_type": "stream",
          "name": "stderr",
          "text": [
            "<ipython-input-23-8d5a73218338>:7: MatplotlibDeprecationWarning: The 'labels' parameter of boxplot() has been renamed 'tick_labels' since Matplotlib 3.9; support for the old name will be dropped in 3.11.\n",
            "  plt.boxplot(groups, labels=[f\"Group {i+1}\" for i in range(len(groups))])\n"
          ]
        },
        {
          "output_type": "display_data",
          "data": {
            "text/plain": [
              "<Figure size 640x480 with 1 Axes>"
            ],
            "image/png": "[encoded data removed]"
          },
          "metadata": {}
        },
        {
          "output_type": "stream",
          "name": "stdout",
          "text": [
            "Reject the null hypothesis: At least one group mean is significantly different.\n"
          ]
        }
      ]
    },
    {
      "cell_type": "markdown",
      "source": [
        "Q23. Simulate random data from a normal distribution, then perform hypothesis testing to evaluate the means.\n",
        "\n",
        "Ans:"
      ],
      "metadata": {
        "id": "mHDDr1rkW2yT"
      }
    },
    {
      "cell_type": "code",
      "source": [
        "def normal_hypothesis_test(sample, pop_mean):\n",
        "    t_stat, p_value = stats.ttest_1samp(sample, pop_mean)\n",
        "    print(f\"T-statistic: {t_stat:.4f}, P-value: {p_value:.4f}\")\n",
        "\n",
        "    if p_value < 0.05:\n",
        "        print(\"Reject the null hypothesis: Sample mean is significantly different.\")\n",
        "    else:\n",
        "        print(\"Fail to reject the null hypothesis: No significant difference.\")\n",
        "\n",
        "# Generate normal data\n",
        "sample_data = np.random.normal(50, 10, 30)\n",
        "normal_hypothesis_test(sample_data, 52)\n"
      ],
      "metadata": {
        "colab": {
          "base_uri": "https://localhost:8080/"
        },
        "id": "QPT6E1sYZ4aI",
        "outputId": "6bdc451a-b941-4180-fd5b-6995fa2f607d"
      },
      "execution_count": 24,
      "outputs": [
        {
          "output_type": "stream",
          "name": "stdout",
          "text": [
            "T-statistic: -1.5530, P-value: 0.1313\n",
            "Fail to reject the null hypothesis: No significant difference.\n"
          ]
        }
      ]
    },
    {
      "cell_type": "markdown",
      "source": [
        "Q24. Perform a hypothesis test for population variance using a Chi-square distribution and interpret the results.\n",
        "\n",
        "Ans:"
      ],
      "metadata": {
        "id": "BfjQRYZeW5Pc"
      }
    },
    {
      "cell_type": "code",
      "source": [
        "def variance_test(sample, pop_variance):\n",
        "    n = len(sample)\n",
        "    sample_variance = np.var(sample, ddof=1)\n",
        "    chi2_stat = (n - 1) * sample_variance / pop_variance\n",
        "    p_value = 1 - stats.chi2.cdf(chi2_stat, df=n-1)\n",
        "\n",
        "    print(f\"Chi-square statistic: {chi2_stat:.4f}, P-value: {p_value:.4f}\")\n",
        "\n",
        "    if p_value < 0.05:\n",
        "        print(\"Reject the null hypothesis: Population variance is significantly different.\")\n",
        "    else:\n",
        "        print(\"Fail to reject the null hypothesis.\")\n",
        "\n",
        "# Example usage\n",
        "sample_data = np.random.normal(100, 10, 30)\n",
        "variance_test(sample_data, 100)\n"
      ],
      "metadata": {
        "colab": {
          "base_uri": "https://localhost:8080/"
        },
        "id": "cKNsJxR0aABs",
        "outputId": "d2ee34c7-2549-47a3-9515-42290450a0e7"
      },
      "execution_count": 25,
      "outputs": [
        {
          "output_type": "stream",
          "name": "stdout",
          "text": [
            "Chi-square statistic: 27.8634, P-value: 0.5252\n",
            "Fail to reject the null hypothesis.\n"
          ]
        }
      ]
    },
    {
      "cell_type": "markdown",
      "source": [
        "Q25. Write a Python script to perform a Z-test for comparing proportions between two datasets or groups.\n",
        "\n",
        "Ans:"
      ],
      "metadata": {
        "id": "-z9osJWfW7W7"
      }
    },
    {
      "cell_type": "code",
      "source": [
        "def z_test_proportions(success1, size1, success2, size2):\n",
        "    p1 = success1 / size1\n",
        "    p2 = success2 / size2\n",
        "    p_pool = (success1 + success2) / (size1 + size2)\n",
        "    se = np.sqrt(p_pool * (1 - p_pool) * (1/size1 + 1/size2))\n",
        "\n",
        "    z_score = (p1 - p2) / se\n",
        "    p_value = 2 * (1 - stats.norm.cdf(abs(z_score)))\n",
        "\n",
        "    print(f\"Z-score: {z_score:.4f}, P-value: {p_value:.4f}\")\n",
        "\n",
        "    if p_value < 0.05:\n",
        "        print(\"Reject the null hypothesis: The proportions are significantly different.\")\n",
        "    else:\n",
        "        print(\"Fail to reject the null hypothesis.\")\n",
        "\n",
        "# Example usage\n",
        "z_test_proportions(50, 200, 30, 180)\n"
      ],
      "metadata": {
        "colab": {
          "base_uri": "https://localhost:8080/"
        },
        "id": "_bb8ivGIaFf2",
        "outputId": "d21f6928-b419-4fa1-c97b-ba4329e979de"
      },
      "execution_count": 26,
      "outputs": [
        {
          "output_type": "stream",
          "name": "stdout",
          "text": [
            "Z-score: 1.9896, P-value: 0.0466\n",
            "Reject the null hypothesis: The proportions are significantly different.\n"
          ]
        }
      ]
    },
    {
      "cell_type": "markdown",
      "source": [
        "Q26. Implement an F-test for comparing the variances of two datasets, then interpret and visualize the results.\n",
        "\n",
        "Ans:\n",
        "\n"
      ],
      "metadata": {
        "id": "bd-olDwtW-VY"
      }
    },
    {
      "cell_type": "code",
      "source": [
        "def f_test_visualization(sample1, sample2):\n",
        "    var1, var2 = np.var(sample1, ddof=1), np.var(sample2, ddof=1)\n",
        "    f_stat = var1 / var2\n",
        "    df1, df2 = len(sample1) - 1, len(sample2) - 1\n",
        "    p_value = 1 - stats.f.cdf(f_stat, df1, df2)\n",
        "\n",
        "    print(f\"F-statistic: {f_stat:.4f}, P-value: {p_value:.4f}\")\n",
        "\n",
        "    # Visualization\n",
        "    x = np.linspace(0, 5, 1000)\n",
        "    y = stats.f.pdf(x, df1, df2)\n",
        "\n",
        "    plt.figure(figsize=(8, 5))\n",
        "    plt.plot(x, y, label=f\"F-distribution (df1={df1}, df2={df2})\")\n",
        "    plt.axvline(f_stat, color='red', linestyle=\"--\", label=f\"F-stat: {f_stat:.2f}\")\n",
        "    plt.title(\"F-test for Variance Comparison\")\n",
        "    plt.legend()\n",
        "    plt.show()\n",
        "\n",
        "    if p_value < 0.05:\n",
        "        print(\"Reject the null hypothesis: Variances are significantly different.\")\n",
        "    else:\n",
        "        print(\"Fail to reject the null hypothesis.\")\n",
        "\n",
        "# Example usage\n",
        "sample1 = np.random.normal(100, 15, 30)\n",
        "sample2 = np.random.normal(100, 10, 30)\n",
        "f_test_visualization(sample1, sample2)\n"
      ],
      "metadata": {
        "colab": {
          "base_uri": "https://localhost:8080/",
          "height": 503
        },
        "id": "Z9fBafDPaKnf",
        "outputId": "cd1df3ce-3d21-47bf-b6e4-09ffda47e87e"
      },
      "execution_count": 27,
      "outputs": [
        {
          "output_type": "stream",
          "name": "stdout",
          "text": [
            "F-statistic: 3.1073, P-value: 0.0016\n"
          ]
        },
        {
          "output_type": "display_data",
          "data": {
            "text/plain": [
              "<Figure size 800x500 with 1 Axes>"
            ],
            "image/png": "[encoded data removed]"
          },
          "metadata": {}
        },
        {
          "output_type": "stream",
          "name": "stdout",
          "text": [
            "Reject the null hypothesis: Variances are significantly different.\n"
          ]
        }
      ]
    },
    {
      "cell_type": "markdown",
      "source": [
        "Q27. Perform a Chi-square test for goodness of fit with simulated data and analyze the results.\n",
        "\n",
        "Ans:"
      ],
      "metadata": {
        "id": "iUPtb2tQXBMX"
      }
    },
    {
      "cell_type": "code",
      "source": [
        "def chi_square_goodness_of_fit(observed, expected):\n",
        "    chi2_stat, p_value = stats.chisquare(observed, expected)\n",
        "    print(f\"Chi-square statistic: {chi2_stat:.4f}, P-value: {p_value:.4f}\")\n",
        "\n",
        "    if p_value < 0.05:\n",
        "        print(\"Reject the null hypothesis: The observed distribution is significantly different from expected.\")\n",
        "    else:\n",
        "        print(\"Fail to reject the null hypothesis.\")\n",
        "\n",
        "# Example usage\n",
        "observed = np.array([40, 60])\n",
        "expected = np.array([50, 50])\n",
        "chi_square_goodness_of_fit(observed, expected)\n"
      ],
      "metadata": {
        "colab": {
          "base_uri": "https://localhost:8080/"
        },
        "id": "aCBkiEbFaTDx",
        "outputId": "559d2971-ce7b-4988-b97a-e9e4d081f972"
      },
      "execution_count": 28,
      "outputs": [
        {
          "output_type": "stream",
          "name": "stdout",
          "text": [
            "Chi-square statistic: 4.0000, P-value: 0.0455\n",
            "Reject the null hypothesis: The observed distribution is significantly different from expected.\n"
          ]
        }
      ]
    }
  ]
}